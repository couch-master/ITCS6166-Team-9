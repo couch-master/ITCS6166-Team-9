version https://git-lfs.github.com/spec/v1
oid sha256:d2297862d4aa9945ac55df4b2e4f3d36218a6a78d9b90f7662005d65bb531a1b
size 6227535
